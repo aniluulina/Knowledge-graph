{
  "nbformat": 4,
  "nbformat_minor": 0,
  "metadata": {
    "colab": {
      "provenance": []
    },
    "kernelspec": {
      "name": "python3",
      "display_name": "Python 3"
    },
    "language_info": {
      "name": "python"
    }
  },
  "cells": [
    {
      "cell_type": "code",
      "execution_count": 1,
      "metadata": {
        "colab": {
          "base_uri": "https://localhost:8080/"
        },
        "id": "gGI49k-zPW50",
        "outputId": "ea72cd66-1118-4e7c-8871-1b34c0852ae9"
      },
      "outputs": [
        {
          "output_type": "stream",
          "name": "stdout",
          "text": [
            "\u001b[2K     \u001b[90m━━━━━━━━━━━━━━━━━━━━━━━━━━━━━━━━━━━━━━━━\u001b[0m \u001b[32m42.0/42.0 kB\u001b[0m \u001b[31m581.9 kB/s\u001b[0m eta \u001b[36m0:00:00\u001b[0m\n",
            "\u001b[2K     \u001b[90m━━━━━━━━━━━━━━━━━━━━━━━━━━━━━━━━━━━━━━━━\u001b[0m \u001b[32m60.9/60.9 kB\u001b[0m \u001b[31m887.8 kB/s\u001b[0m eta \u001b[36m0:00:00\u001b[0m\n",
            "\u001b[2K     \u001b[90m━━━━━━━━━━━━━━━━━━━━━━━━━━━━━━━━━━━━━━━━\u001b[0m \u001b[32m48.5/48.5 kB\u001b[0m \u001b[31m887.9 kB/s\u001b[0m eta \u001b[36m0:00:00\u001b[0m\n",
            "\u001b[2K     \u001b[90m━━━━━━━━━━━━━━━━━━━━━━━━━━━━━━━━━━━━━━━━\u001b[0m \u001b[32m50.4/50.4 kB\u001b[0m \u001b[31m1.1 MB/s\u001b[0m eta \u001b[36m0:00:00\u001b[0m\n",
            "\u001b[2K   \u001b[90m━━━━━━━━━━━━━━━━━━━━━━━━━━━━━━━━━━━━━━━━\u001b[0m \u001b[32m367.8/367.8 kB\u001b[0m \u001b[31m4.7 MB/s\u001b[0m eta \u001b[36m0:00:00\u001b[0m\n",
            "\u001b[2K   \u001b[90m━━━━━━━━━━━━━━━━━━━━━━━━━━━━━━━━━━━━━━━━\u001b[0m \u001b[32m59.2/59.2 kB\u001b[0m \u001b[31m1.5 MB/s\u001b[0m eta \u001b[36m0:00:00\u001b[0m\n",
            "\u001b[2K   \u001b[90m━━━━━━━━━━━━━━━━━━━━━━━━━━━━━━━━━━━━━━━━\u001b[0m \u001b[32m5.6/5.6 MB\u001b[0m \u001b[31m30.6 MB/s\u001b[0m eta \u001b[36m0:00:00\u001b[0m\n",
            "\u001b[2K   \u001b[90m━━━━━━━━━━━━━━━━━━━━━━━━━━━━━━━━━━━━━━━━\u001b[0m \u001b[32m294.6/294.6 kB\u001b[0m \u001b[31m14.7 MB/s\u001b[0m eta \u001b[36m0:00:00\u001b[0m\n",
            "\u001b[2K   \u001b[90m━━━━━━━━━━━━━━━━━━━━━━━━━━━━━━━━━━━━━━━━\u001b[0m \u001b[32m2.3/2.3 MB\u001b[0m \u001b[31m43.2 MB/s\u001b[0m eta \u001b[36m0:00:00\u001b[0m\n",
            "\u001b[2K   \u001b[90m━━━━━━━━━━━━━━━━━━━━━━━━━━━━━━━━━━━━━━━━\u001b[0m \u001b[32m52.0/52.0 kB\u001b[0m \u001b[31m2.6 MB/s\u001b[0m eta \u001b[36m0:00:00\u001b[0m\n",
            "\u001b[2K   \u001b[90m━━━━━━━━━━━━━━━━━━━━━━━━━━━━━━━━━━━━━━━━\u001b[0m \u001b[32m76.4/76.4 kB\u001b[0m \u001b[31m3.7 MB/s\u001b[0m eta \u001b[36m0:00:00\u001b[0m\n",
            "\u001b[2K   \u001b[90m━━━━━━━━━━━━━━━━━━━━━━━━━━━━━━━━━━━━━━━━\u001b[0m \u001b[32m77.9/77.9 kB\u001b[0m \u001b[31m4.2 MB/s\u001b[0m eta \u001b[36m0:00:00\u001b[0m\n",
            "\u001b[2K   \u001b[90m━━━━━━━━━━━━━━━━━━━━━━━━━━━━━━━━━━━━━━━━\u001b[0m \u001b[32m318.9/318.9 kB\u001b[0m \u001b[31m14.1 MB/s\u001b[0m eta \u001b[36m0:00:00\u001b[0m\n",
            "\u001b[2K   \u001b[90m━━━━━━━━━━━━━━━━━━━━━━━━━━━━━━━━━━━━━━━━\u001b[0m \u001b[32m1.0/1.0 MB\u001b[0m \u001b[31m29.6 MB/s\u001b[0m eta \u001b[36m0:00:00\u001b[0m\n",
            "\u001b[2K   \u001b[90m━━━━━━━━━━━━━━━━━━━━━━━━━━━━━━━━━━━━━━━━\u001b[0m \u001b[32m396.4/396.4 kB\u001b[0m \u001b[31m14.8 MB/s\u001b[0m eta \u001b[36m0:00:00\u001b[0m\n",
            "\u001b[2K   \u001b[90m━━━━━━━━━━━━━━━━━━━━━━━━━━━━━━━━━━━━━━━━\u001b[0m \u001b[32m290.4/290.4 kB\u001b[0m \u001b[31m14.5 MB/s\u001b[0m eta \u001b[36m0:00:00\u001b[0m\n",
            "\u001b[2K   \u001b[90m━━━━━━━━━━━━━━━━━━━━━━━━━━━━━━━━━━━━━━━━\u001b[0m \u001b[32m2.8/2.8 MB\u001b[0m \u001b[31m51.3 MB/s\u001b[0m eta \u001b[36m0:00:00\u001b[0m\n",
            "\u001b[2K   \u001b[90m━━━━━━━━━━━━━━━━━━━━━━━━━━━━━━━━━━━━━━━━\u001b[0m \u001b[32m1.1/1.1 MB\u001b[0m \u001b[31m7.3 MB/s\u001b[0m eta \u001b[36m0:00:00\u001b[0m\n",
            "\u001b[2K   \u001b[90m━━━━━━━━━━━━━━━━━━━━━━━━━━━━━━━━━━━━━━━━\u001b[0m \u001b[32m49.3/49.3 kB\u001b[0m \u001b[31m2.6 MB/s\u001b[0m eta \u001b[36m0:00:00\u001b[0m\n",
            "\u001b[2K   \u001b[90m━━━━━━━━━━━━━━━━━━━━━━━━━━━━━━━━━━━━━━━━\u001b[0m \u001b[32m141.9/141.9 kB\u001b[0m \u001b[31m9.0 MB/s\u001b[0m eta \u001b[36m0:00:00\u001b[0m\n",
            "\u001b[2K   \u001b[90m━━━━━━━━━━━━━━━━━━━━━━━━━━━━━━━━━━━━━━━━\u001b[0m \u001b[32m58.3/58.3 kB\u001b[0m \u001b[31m4.0 MB/s\u001b[0m eta \u001b[36m0:00:00\u001b[0m\n",
            "\u001b[?25h"
          ]
        }
      ],
      "source": [
        "!pip install openai pdfplumber neo4j langchain-text-splitters langchain-community langchain-openai numpy -qU"
      ]
    },
    {
      "cell_type": "code",
      "source": [
        "#openai key\n",
        "import os\n",
        "import getpass\n",
        "from openai import OpenAI\n",
        "\n",
        "os.environ['OPENAI_API_KEY'] = getpass.getpass('OpenAI API Key:') #sk-proj-8YH86xCqTyCm3FeMmNSlT3BlbkFJn6hj7dJcuFafKYEadQTe"
      ],
      "metadata": {
        "colab": {
          "base_uri": "https://localhost:8080/"
        },
        "id": "Rp98QUFLPkAm",
        "outputId": "c96ca82e-bbbd-459c-96ad-87fc65554c90"
      },
      "execution_count": 2,
      "outputs": [
        {
          "name": "stdout",
          "output_type": "stream",
          "text": [
            "OpenAI API Key:··········\n"
          ]
        }
      ]
    },
    {
      "cell_type": "code",
      "source": [
        "client = OpenAI()"
      ],
      "metadata": {
        "id": "x2k0mhZaStke"
      },
      "execution_count": 3,
      "outputs": []
    },
    {
      "cell_type": "code",
      "source": [
        "#neo4j uri env\n",
        "from neo4j import GraphDatabase\n",
        "from langchain_community.graphs import Neo4jGraph\n",
        "\n",
        "%env NEO4J_URI=neo4j+s://e27ae38f.databases.neo4j.io\n",
        "%env NEO4J_USERNAME=neo4j\n",
        "%env NEO4J_PASSWORD=MLps-fiUzCGYlPY8pUoNX0IFgWnlpyxBLFph1W8sf3Y\n",
        "\n",
        "uri = \"neo4j+s://e27ae38f.databases.neo4j.io\"\n",
        "user = \"neo4j\"\n",
        "password = \"MLps-fiUzCGYlPY8pUoNX0IFgWnlpyxBLFph1W8sf3Y\"\n",
        "\n",
        "graph = Neo4jGraph()\n",
        "driver = GraphDatabase.driver(uri, auth=(user, password))"
      ],
      "metadata": {
        "colab": {
          "base_uri": "https://localhost:8080/"
        },
        "id": "M23Xv-OVPmte",
        "outputId": "810cac55-dbfb-42fc-9275-9d3b2be1c9a1"
      },
      "execution_count": 4,
      "outputs": [
        {
          "output_type": "stream",
          "name": "stdout",
          "text": [
            "env: NEO4J_URI=neo4j+s://e27ae38f.databases.neo4j.io\n",
            "env: NEO4J_USERNAME=neo4j\n",
            "env: NEO4J_PASSWORD=MLps-fiUzCGYlPY8pUoNX0IFgWnlpyxBLFph1W8sf3Y\n"
          ]
        }
      ]
    },
    {
      "cell_type": "code",
      "source": [
        "from google.colab import drive\n",
        "drive.mount('/content/drive')"
      ],
      "metadata": {
        "colab": {
          "base_uri": "https://localhost:8080/"
        },
        "id": "I4t0e2_JQm7n",
        "outputId": "f266e919-1d2d-4fa8-8f01-0f4a7e499bcb"
      },
      "execution_count": null,
      "outputs": [
        {
          "output_type": "stream",
          "name": "stdout",
          "text": [
            "Mounted at /content/drive\n"
          ]
        }
      ]
    },
    {
      "cell_type": "code",
      "source": [
        "%cd '/content/drive/MyDrive/KGC'"
      ],
      "metadata": {
        "colab": {
          "base_uri": "https://localhost:8080/"
        },
        "id": "slJl6SHdQrFh",
        "outputId": "f240f940-6f20-489d-a31f-d0f1244b5e18"
      },
      "execution_count": null,
      "outputs": [
        {
          "output_type": "stream",
          "name": "stdout",
          "text": [
            "/content/drive/MyDrive/KGC\n"
          ]
        }
      ]
    },
    {
      "cell_type": "markdown",
      "source": [
        "## **Data Preprocessing** <br>\n",
        "- keyword generation"
      ],
      "metadata": {
        "id": "pBBBP8PeQNo2"
      }
    },
    {
      "cell_type": "code",
      "source": [
        "#pdf document import\n",
        "import pdfplumber"
      ],
      "metadata": {
        "id": "YPQURzRUQKRs"
      },
      "execution_count": null,
      "outputs": []
    },
    {
      "cell_type": "code",
      "source": [
        "#extract text from pdf by pages\n",
        "def extract_text_from_pdf(pdf_path):\n",
        "    text_by_page = []\n",
        "    page_count = 0\n",
        "    with pdfplumber.open(pdf_path) as pdf:\n",
        "        for page in pdf.pages:\n",
        "            text = page.extract_text()\n",
        "            page_count += 1\n",
        "            if text:\n",
        "                text_by_page.append(text)\n",
        "        # print(\"total page count: \",page_count)\n",
        "    return text_by_page\n",
        "\n",
        "pdf_path = 'apple_2023_1-20.pdf'\n",
        "extraction = extract_text_from_pdf(pdf_path)\n",
        "# print(\"extraction sample: \",extraction[4])"
      ],
      "metadata": {
        "id": "YlU2cmErQ7yJ"
      },
      "execution_count": null,
      "outputs": []
    },
    {
      "cell_type": "code",
      "source": [
        "#keyword extraction by pages using openai embedding\n",
        "def extract_keywords(text):\n",
        "    try:\n",
        "        response = client.chat.completions.create(\n",
        "            model=\"gpt-4o\",\n",
        "            messages=[\n",
        "                {\"role\": \"system\", \"content\": \"This document is mainly about company’s annual business report. Extract valid main keywords that could represent the document. Do not use any of markdowns or bullet points.\"},\n",
        "                {\"role\": \"user\", \"content\": text}\n",
        "            ],\n",
        "        )\n",
        "        return response.choices[0].message.content.strip()\n",
        "    except Exception as e:\n",
        "        print(f\"An error occurred: {e}\")\n",
        "        return None\n",
        "\n",
        "keywords_list = [extract_keywords(page) for page in extraction]\n",
        "\n",
        "for i, keywords in enumerate(keywords_list, 1):\n",
        "    print(f\"Page {i}:\\n {keywords}\")"
      ],
      "metadata": {
        "colab": {
          "base_uri": "https://localhost:8080/"
        },
        "id": "mCPQS-owRMcb",
        "outputId": "eef0c302-e140-437f-f978-3171f489dbe3"
      },
      "execution_count": null,
      "outputs": [
        {
          "output_type": "stream",
          "name": "stdout",
          "text": [
            "Page 1:\n",
            " Apple Inc., annual business report, Securities and Exchange Commission, SEC, Form 10-K, fiscal year ended September 30, 2023, common stock, Nasdaq, trading symbols, notes, financial filing.\n",
            "Page 2:\n",
            " annual business report, large accelerated filer, accelerated filer, non-accelerated filer, smaller reporting company, emerging growth company, Exchange Act, extended transition period, comply financial accounting standards, Section 13(a), Exchange Act, internal control, financial reporting, Section 404(b), Sarbanes-Oxley Act, registered public accounting firm, audit report, Section 12(b), Act, financial statements, correction of error, previously issued financial statements, error corrections, restatements, recovery analysis, incentive-based compensation, executive officers, registrant, relevant recovery period, §240.10D-1(b), shell company, Rule 12b-2, Act, market value, voting stock, non-voting stock, non-affiliates, fiscal quarter, business day, completed fiscal quarter, shares of common stock, common stock, executive officers, directors, determination, affiliates, outstanding shares, October 2023, documents incorporated by reference, definitive proxy statement, annual meeting of shareholders, incorporated by reference, Part III, Annual Report, Form 10-K, U.S. Securities and Exchange Commission, fiscal year.\n",
            "Page 3:\n",
            " Apple Inc., annual business report, Form 10-K, fiscal year, business, risk factors, unresolved staff comments, cybersecurity, properties, legal proceedings, mine safety disclosures, market for common equity, stockholder matters, issuer purchases, management’s discussion, financial condition, results of operations, quantitative disclosures, qualitative disclosures, market risk, financial statements, supplementary data, accounting, financial disclosure, controls, procedures, foreign jurisdictions, directors, executive officers, corporate governance, executive compensation, security ownership, beneficial owners, management, related transactions, director independence, accountant fees, services, exhibits, financial statement schedules, Form 10-K summary.\n",
            "Page 4:\n",
            " annual report, Form 10-K, forward-looking statements, risks and uncertainties, Business, Management’s Discussion and Analysis of Financial Condition and Results of Operations, macroeconomic conditions, Risk Factors, fiscal calendar, Apple Inc., Company Background, designs, manufactures, markets, smartphones, personal computers, tablets, wearables, accessories, services, iPhone, iOS, Mac, macOS, MacBook, iMac, Mac mini, Mac Studio, Mac Pro, iPad, iPadOS, Apple Watch, watchOS, AirPods, Beats, Apple TV, tvOS, HomePod, smart speakers, wireless headphones, Apple-branded accessories\n",
            "Page 5:\n",
            " Services, Advertising, AppleCare, Cloud Services, Digital Content, Platforms, Subscription Services, Payment Services, Segments, Markets, Distribution, Competition.\n",
            "Page 6:\n",
            " compete successfully, innovative new products, services, technologies, hardware, operating system, software applications, price, product features, service features, security features, performance, quality, reliability, design innovation, third-party software, accessories, ecosystem, marketing, distribution, service, support, corporate reputation, market opportunities, smartphones, personal computers, tablets, wearables, accessories, substantial competition, technical resources, marketing resources, distribution resources, lower-priced products, installed base, active devices, intense competition, product margins, competitors, service models, content, illegitimate means, integrated solutions, single sources, limited sources, component supply, industry-wide shortage, commodity pricing, custom components, new technologies, capacity constraints, manufacturing capacities, research and development, intellectual property, patents, designs, copyrights, trademarks, intellectual property rights, U.S., foreign countries, innovative skills, technical competence, marketing abilities, patent applications, design applications, copyright applications, trademark applications, portfolio, third-party intellectual property, licenses, Apple Inc.\n",
            "Page 7:\n",
            " Business Seasonality, Product Introductions, Net Sales, Indirect Distribution Channels, Channel Inventory, Human Capital, Workplace Practices and Policies, Compensation and Benefits, Inclusion and Diversity, Engagement, Health and Safety, Annual Reports, Quarterly Reports, Current Reports, Securities Exchange Act of 1934, SEC Filings, Investor Relations, Financial Performance, Environmental Matters, Social Matters, Governance Matters, Annual Meeting of Shareholders.\n",
            "Page 8:\n",
            " Risk factors, business, reputation, results of operations, financial condition, stock price, macroeconomic risks, economic conditions, international operations, global supply chain, consumer confidence, fiscal policy, monetary policy, financial market volatility, economic factors, suppliers, contract manufacturers, distributors, logistics providers, trade receivables, liquidity, financial instruments, political events, trade disputes, natural disasters, public health issues, business interruptions.\n",
            "Page 9:\n",
            " global business, international trade, tariffs, imports, exports, supply chain, manufacturing, outsourcing partners, China, India, Japan, South Korea, Taiwan, Vietnam, political uncertainty, consumer confidence, natural disasters, earthquakes, fires, power shortages, industrial accidents, cybersecurity attacks, pandemics, COVID-19, climate change, product delivery, critical components, single sources, business interruption, industrial safety, public health, insurance coverage, global market, competition, technological change, product innovation, R&D investment.\n",
            "Page 10:\n",
            " patents, trademarks, copyrights, intellectual property protection, competitors, pricing, cost structures, innovative products, market share, global smartphone market, personal computer market, tablet market, technical resources, marketing resources, distribution resources, hardware suppliers, software suppliers, digital content suppliers, product lines, product margins, competition, market growth, product features, integrated solutions, service competition, business models, customer base, digital content, third-party applications, product improvement, functional advantages, design advantages, customer demand, product introductions, service introductions, technology development, market acceptance, production ramp-up issues, application software, purchase commitments, inventory levels, product availability, product quality, defects, outsourcing partners, manufacturing locations, transportation logistics, supply chain, production control, distribution control, supplier code of conduct, product defect liabilities\n",
            "Page 11:\n",
            " annual business report, single-source outsourcing partners, U.S., Asia, Europe, supply, manufacture, components, hardware products, final assembly, manufacturing disruptions, logistics disruptions, natural disasters, man-made disasters, information technology system failures, commercial disputes, armed conflict, economic issues, business issues, labor issues, environmental issues, public health issues, political issues, international trade disputes, manufacturing process equipment, prepayments, long-term supply agreements, financial problems, future operating results, sufficient quantities, commercially reasonable terms, pricing risks, industry-wide shortages, commodity pricing fluctuations, semiconductor industry, high demand, supply shortages, poor financial conditions, consolidation, new products, custom components, initial capacity constraints, manufacturing capacities, custom vs. common components, design defects, manufacturing defects, quality issues, hardware products, software products, service offerings, product liability claims, recalls, product replacements, inventory write-offs, warranty expenses, litigation costs, regulatory fines, user experience, reputation, competitive advantage, market acceptance, reduced demand, new product introductions, lost sales.\n",
            "Page 12:\n",
            " risk, write-downs, inventory, purchase commitment, cancellation, product obsolescence, impairment, components, manufacturing, intellectual property, third-party, software developers, market share, technological change, customer demand, license, financial condition, competitive, volatile, hardware, software applications, suppliers, capital assets, forecast, rapid technology, price changes, manufacturing purchase obligations, third-party intellectual property, infringement, patent, adverse impact, results of operations, financial results.\n",
            "Page 13:\n",
            " Company, annual business report, App Store, third-party applications, developers, revenue, commission, sales, digital services, digital goods, competition, market conditions, legal requirements, regulatory requirements, European Union, Digital Markets Act, litigation, investigations, business practices, legislative initiatives, consumer communication, alternative purchasing mechanisms, distribution, platforms, financial condition, digital content, licensing, distribution arrangements, subscription, competing products, security solutions, digital rights management, technology, talent, employees, operational flexibility, culture, reputation, carriers, wholesalers, retailers, resellers, cellular network carriers, small businesses, mid-sized businesses, enterprise customers, government customers.\n",
            "Page 14:\n",
            " investment programs, reseller sales, staffing, product placement, financial condition, demand uncertainty, information technology system failures, network disruptions, complex IT systems, cybersecurity, business continuity, disaster recovery, confidential information, personal information, network and data security, encryption, malicious attacks, ransomware, unauthorized access, data breaches, business operations, litigation, government investigations, penalties, fines, high profile, mitigation, insurance coverage\n",
            "Page 15:\n",
            " Investment, new business strategies, acquisitions, risks, uncertainties, management distraction, liabilities, expenses, economic challenges, political challenges, legal challenges, regulatory challenges, return on capital, impairment, tangible assets, intangible assets, write-offs, regulatory approvals, transaction completion, benefits of transaction, retail stores, macroeconomic factors, retail activity, retail store construction, retail partners, retail inventory, leases, legal proceedings, government investigations, indemnification, costs, damages, claims, legal proceedings, government investigations, patent claims, cellular-enabled products, intellectual property rights, litigation, injunctions, substantial damages, cost of sales, operating expenses, business practices, products, services, contingencies, compensatory damages, punitive damages, monetary damages, revenue, profits, injunctive relief, insurance coverage, losses.\n",
            "Page 16:\n",
            " annual business report, complex laws, changing regulations, global operations, potential liabilities, increased costs, adverse effects, antitrust, privacy, data security, data localization, consumer protection, advertising, sales, billing, e-commerce, financial services, technology, product liability, intellectual property, digital platforms, machine learning, artificial intelligence, internet, telecommunications, mobile communications, media, television, film, digital content, third-party software, labor, employment, anticorruption, import, export, trade, foreign exchange controls, cash repatriation, anti-money laundering, foreign ownership, investment, tax, environmental health, safety, electronic waste, recycling, product design, climate change, compliance, policies, procedures, regulatory changes, export, import, programs, reputation, operations, financial condition, environmental, social, governance, climate change, greenhouse gas emissions, human rights, civil rights, diversity, equity, inclusion, stakeholders, investments, third-party performance, data control, legal proceedings, stock price, technology industry, media scrutiny, political scrutiny, regulatory scrutiny, government investigations, legal actions, App Store, litigation, competition, market conditions, EU Digital Markets Act, legislative initiatives, app distribution, developers, purchasing mechanisms.\n",
            "Page 17:\n",
            " antitrust investigations, legal proceedings, claims, App Store terms and conditions, Europe, business practices, commercial relationships, technology industry, licensing arrangements, search services, government investigations, legal proceedings, new laws and regulations, compliance, privacy and security, reputation, competitive advantage, data protection, personal information, federal laws, state laws, international laws, costs, business practices, noncompliance, penalties, legal liability, sensitive information, health data, financial data, biometric data, breach notification, governmental authorities, reputational impacts, fees, fines, payment card data, payment card industry, data security standards, transaction costs, processing payment cards, business reputation, results of operations, financial condition.\n",
            "Page 18:\n",
            " Financial Risks, quarterly net sales, results of operations, profit margins, geographic segments, distribution channels, industry-wide global product pricing pressures, competition, demand stimulation, product life cycles, supply shortages, component costs, manufacturing services, content delivery, product quality, warranty costs, geographic mix, currency mix, channel mix, regulatory changes, foreign exchange rates, inflation, macroeconomic pressures, new product introduction, seasonal holiday demand, cost of sales, operating expenses, information technology failures, network disruptions, logistics, components supply, manufacturing partners, foreign exchange rate fluctuations, U.S. dollar value, international pricing, foreign currency–denominated sales, derivative instruments, foreign currency forward contracts, option contracts, hedging activities, credit risk, investment portfolio, liquidity, credit deterioration, market and economic conditions, political risk, sovereign risk, interest rate fluctuations, cash equivalents, marketable securities.\n",
            "Page 19:\n",
            " annual business report, credit risk, trade accounts receivable, vendor non-trade receivables, prepayments, long-term supply agreements, economic conditions, third-party cellular network carriers, wholesalers, retailers, resellers, small and mid-sized businesses, education customers, enterprise customers, government customers, collateral, credit insurance, international markets, unsecured vendor receivables, outsourcing partners, long-term prepayments, tax rates, tax legislation, tax liabilities, U.S. Internal Revenue Service, tax authorities, stock price volatility, stock repurchase, cash dividend, share repurchase program, investor confidence, employee retention\n",
            "Page 20:\n",
            " Company headquarters, Cupertino, California, corporate functions, R&D, data centers, retail, facilities, equipment, legal proceedings, Epic Games, federal antitrust laws, state antitrust laws, California unfair competition law, App Store Review Guidelines, U.S. District Court, injunction, U.S. Court of Appeals, U.S. Supreme Court, Masimo Corporation, Cercacor Laboratories, U.S. International Trade Commission, blood oxygen feature, Apple Watch, exclusion order, administrative review period, appeal, stay pending appeal, financial condition, operating results, litigation.\n"
          ]
        }
      ]
    },
    {
      "cell_type": "code",
      "source": [
        "#consolidate all the keywords into main keywords\n",
        "def extract_overall_keywords(keywords_list):\n",
        "    try:\n",
        "        combined_keywords = ' '.join(keywords_list)\n",
        "\n",
        "        response = client.chat.completions.create(\n",
        "            model=\"gpt-4o\",\n",
        "            messages=[\n",
        "                {\"role\": \"system\", \"content\": \"Given keywords list is extracted from each pages of annual business report. Please boil down all these keywords into top important keywords that could encompass other words and closely related keywords. You can change the expression if you need. Don’t include keywords Apple Inc., annual business report, fiscal year 2023, form 10-k. And do not use any of markdowns or bullet points.\"},\n",
        "                {\"role\": \"user\", \"content\": combined_keywords}\n",
        "            ],\n",
        "        )\n",
        "        return response.choices[0].message.content.strip()\n",
        "    except Exception as e:\n",
        "        print(f\"An error occurred: {e}\")\n",
        "        return None\n",
        "final_keywords = extract_overall_keywords(keywords_list).split(',')\n",
        "print(final_keywords)"
      ],
      "metadata": {
        "colab": {
          "base_uri": "https://localhost:8080/"
        },
        "id": "MwF3yxwvSaqy",
        "outputId": "d5905935-aa1a-4b41-d7b3-5c0dd89cb7b9"
      },
      "execution_count": null,
      "outputs": [
        {
          "output_type": "stream",
          "name": "stdout",
          "text": [
            "SEC compliance, stock trade, financial statements, market conditions, risk management, corporate governance, legal proceedings, global operations, intellectual property, supply chain, competition, product innovation, financial performance, cybersecurity, regulatory challenges, human capital, environmental impact, data privacy, customer experience, investment strategies, litigation risks, economic factors.\n"
          ]
        }
      ]
    },
    {
      "cell_type": "markdown",
      "source": [
        "- Text splitting"
      ],
      "metadata": {
        "id": "BXZXyN7GlE0p"
      }
    },
    {
      "cell_type": "code",
      "source": [
        "from langchain_text_splitters import RecursiveCharacterTextSplitter"
      ],
      "metadata": {
        "id": "rvsk6G-nk8zT"
      },
      "execution_count": null,
      "outputs": []
    },
    {
      "cell_type": "code",
      "source": [
        "#text split used for source text data injection to Neo4j\n",
        "text_splitter = RecursiveCharacterTextSplitter(\n",
        "    chunk_size=3000,\n",
        "    chunk_overlap=200\n",
        "    )\n",
        "\n",
        "splitted_texts = text_splitter.create_documents(extraction)"
      ],
      "metadata": {
        "id": "4KWX8qNClMaH"
      },
      "execution_count": null,
      "outputs": []
    },
    {
      "cell_type": "code",
      "source": [
        "# print(len(splitted_texts))\n",
        "# print(splitted_texts[10])"
      ],
      "metadata": {
        "id": "GoMgpvRRleH5"
      },
      "execution_count": null,
      "outputs": []
    },
    {
      "cell_type": "markdown",
      "source": [
        "- Neo4j injection"
      ],
      "metadata": {
        "id": "AlObauz0lkhR"
      }
    },
    {
      "cell_type": "code",
      "source": [
        "# from neo4j import GraphDatabase\n",
        "from langchain_openai import ChatOpenAI, OpenAIEmbeddings\n",
        "# from langchain_community.graphs import Neo4jGraph\n",
        "from neo4j.exceptions import ClientError\n",
        "from langchain_core.prompts import ChatPromptTemplate\n",
        "from typing import List\n",
        "from langchain_core.pydantic_v1 import BaseModel, Field"
      ],
      "metadata": {
        "id": "4H7j-zvXXU8y"
      },
      "execution_count": 8,
      "outputs": []
    },
    {
      "cell_type": "code",
      "source": [
        "llm = ChatOpenAI(temperature=0)\n",
        "embeddings = OpenAIEmbeddings()\n",
        "embedding_dimension = 1536\n",
        "\n",
        "# graph = Neo4jGraph()\n",
        "\n",
        "# uri = \"neo4j+s://e27ae38f.databases.neo4j.io\"\n",
        "# user = \"neo4j\"\n",
        "# password = \"MLps-fiUzCGYlPY8pUoNX0IFgWnlpyxBLFph1W8sf3Y\"\n",
        "\n",
        "# driver = GraphDatabase.driver(uri, auth=(user, password))"
      ],
      "metadata": {
        "id": "0F8VA07hkVMF"
      },
      "execution_count": null,
      "outputs": []
    },
    {
      "cell_type": "code",
      "source": [
        "#insert splitted text data into nodes of Neo4j\n",
        "for i, source in enumerate(splitted_texts):\n",
        "    params = {\n",
        "        \"source_text\": source.page_content,\n",
        "        \"source_id\": i,\n",
        "        \"source_embedding\": embeddings.embed_query(source.page_content),\n",
        "            }\n",
        "    #create nodes with vector embedding\n",
        "    graph.query(\n",
        "        \"\"\"\n",
        "    MERGE (p:Source {id: $source_id})\n",
        "    SET p.text = $source_text\n",
        "    WITH p\n",
        "    CALL db.create.setVectorProperty(p, 'embedding', $source_embedding)\n",
        "    YIELD node\n",
        "    RETURN count(*)\n",
        "    \"\"\",\n",
        "        params,\n",
        "    )\n",
        "\n",
        "    #create vector index for source data\n",
        "    try:\n",
        "        graph.query(\n",
        "            \"CALL db.index.vector.createNodeIndex('source', \"\n",
        "            \"'Source', 'embedding', $dimension, 'cosine')\",\n",
        "            {\"dimension\": embedding_dimension},\n",
        "        )\n",
        "    except ClientError:  #raise error if already exists\n",
        "        pass"
      ],
      "metadata": {
        "id": "6_jljUcsjZzl"
      },
      "execution_count": null,
      "outputs": []
    },
    {
      "cell_type": "code",
      "source": [
        "#insert keywords into nodes of Neo4j\n",
        "for i, keyword in enumerate(final_keywords):\n",
        "    params = {\n",
        "        \"keyword_id\": i,\n",
        "        \"keyword_text\": keyword,\n",
        "        \"keyword_embedding\": embeddings.embed_query(keyword),\n",
        "            }\n",
        "    #create nodes with vector embedding\n",
        "    graph.query(\n",
        "        \"\"\"\n",
        "    MERGE (k:Keyword{id: $keyword_id})\n",
        "    SET k.text = $keyword_text\n",
        "    WITH k\n",
        "    CALL db.create.setVectorProperty(k, 'embedding', $keyword_embedding)\n",
        "    YIELD node\n",
        "    RETURN count(*)\n",
        "    \"\"\",\n",
        "        params,\n",
        "    )\n",
        "\n",
        "    #create vector index for source data\n",
        "    try:\n",
        "        graph.query(\n",
        "            \"CALL db.index.vector.createNodeIndex('keyword', \"\n",
        "            \"'Keyword', 'embedding', $dimension, 'cosine')\",\n",
        "            {\"dimension\": embedding_dimension},\n",
        "        )\n",
        "    except ClientError:  #raise error if already exists\n",
        "        pass"
      ],
      "metadata": {
        "id": "yAtr0xVZ0il-"
      },
      "execution_count": null,
      "outputs": []
    },
    {
      "cell_type": "code",
      "source": [
        "# question generation and node injection\n",
        "class Questions(BaseModel):\n",
        "#     \"\"\"Generating hypothetical questions about text.\"\"\"\n",
        "\n",
        "    questions: List[str] = Field(\n",
        "        ...,\n",
        "        description=(\n",
        "            \"Generated hypothetical questions based on the information from the text\"\n",
        "        ),\n",
        "    )\n",
        "\n",
        "\n",
        "questions_prompt = ChatPromptTemplate.from_messages(\n",
        "    [\n",
        "        (\n",
        "            \"system\",\n",
        "            (\n",
        "                \"You are generating hypothetical questions based on the information found in the text. Make sure to provide full context in the generated questions.\"\n",
        "            ),\n",
        "        ),\n",
        "        (\n",
        "            \"human\",\n",
        "            (\n",
        "                \"Use the given format to generate hypothetical questions from the following input: {input}\"\n",
        "            ),\n",
        "        ),\n",
        "    ]\n",
        ")\n",
        "\n",
        "question_chain = questions_prompt | llm.with_structured_output(Questions)\n",
        "for i, source in enumerate(splitted_texts):\n",
        "    questions = question_chain.invoke(source.page_content).questions\n",
        "    params = {\n",
        "        \"source_id\": i,\n",
        "        \"source_text\": source.page_content,\n",
        "        \"questions\": [\n",
        "            {\"text\": q, \"id\": f\"{i}-{iq}\", \"embedding\": embeddings.embed_query(q)}\n",
        "            for iq, q in enumerate(questions)\n",
        "            if q\n",
        "        ],\n",
        "    }\n",
        "    graph.query(\n",
        "        \"\"\"\n",
        "    MERGE (p:Source {id: $source_id,text: $source_text})\n",
        "    WITH p\n",
        "    UNWIND $questions AS question\n",
        "    CREATE (q:Question {id: question.id})\n",
        "    SET q.text = question.text\n",
        "    MERGE (q)<-[:HAS_QUESTION]-(p)\n",
        "    WITH q, question\n",
        "    CALL db.create.setVectorProperty(q, 'embedding', question.embedding)\n",
        "    YIELD node\n",
        "    RETURN count(*)\n",
        "    \"\"\",\n",
        "        params,\n",
        "    )\n",
        "    # Create vector index\n",
        "    try:\n",
        "        graph.query(\n",
        "            \"CALL db.index.vector.createNodeIndex('hypothetical_questions', \"\n",
        "            \"'Question', 'embedding', $dimension, 'cosine')\",\n",
        "            {\"dimension\": embedding_dimension},\n",
        "        )\n",
        "    except ClientError:  # already exists\n",
        "        pass"
      ],
      "metadata": {
        "id": "lkpqIQeV2bE3"
      },
      "execution_count": null,
      "outputs": []
    },
    {
      "cell_type": "code",
      "source": [
        "#summary generation and node injection\n",
        "summary_prompt = ChatPromptTemplate.from_messages(\n",
        "    [\n",
        "        (\n",
        "            \"system\",\n",
        "            (\n",
        "                \"You are generating concise and accurate summaries based on the information found in the text.\"\n",
        "            ),\n",
        "        ),\n",
        "        (\n",
        "            \"human\",\n",
        "            (\"Generate a summary of the following input: {input}\\n\" \"Summary:\"),\n",
        "        ),\n",
        "    ]\n",
        ")\n",
        "\n",
        "summary_chain = summary_prompt | llm\n",
        "\n",
        "for i, source in enumerate(splitted_texts):\n",
        "    summary = summary_chain.invoke({\"input\": source.page_content}).content\n",
        "    params = {\n",
        "        \"summary_id\": i,\n",
        "        \"summary_text\": summary,\n",
        "        \"embedding\": embeddings.embed_query(summary),\n",
        "    }\n",
        "    graph.query(\n",
        "        \"\"\"\n",
        "    MERGE (p:Source {id: $summary_id})\n",
        "    MERGE (p)-[:HAS_SUMMARY]->(s:Summary)\n",
        "    SET s.text = $summary_text\n",
        "    WITH s\n",
        "    CALL db.create.setVectorProperty(s, 'embedding', $embedding)\n",
        "    YIELD node\n",
        "    RETURN count(*)\n",
        "    \"\"\",\n",
        "        params,\n",
        "    )\n",
        "    # Create vector index\n",
        "    try:\n",
        "        graph.query(\n",
        "            \"CALL db.index.vector.createNodeIndex('summary', \"\n",
        "            \"'Summary', 'embedding', $dimension, 'cosine')\",\n",
        "            {\"dimension\": embedding_dimension},\n",
        "        )\n",
        "    except ClientError:  #raise error if already exists\n",
        "        pass"
      ],
      "metadata": {
        "id": "pRdeu0bP4NZA"
      },
      "execution_count": null,
      "outputs": []
    },
    {
      "cell_type": "markdown",
      "source": [
        "- keyword matching with questions"
      ],
      "metadata": {
        "id": "LGsLJVZD59W3"
      }
    },
    {
      "cell_type": "code",
      "source": [
        "import numpy as np"
      ],
      "metadata": {
        "id": "bmRHKvkhqEPK"
      },
      "execution_count": null,
      "outputs": []
    },
    {
      "cell_type": "code",
      "source": [
        "def create_similarity_relationship(tx, question_id, keyword_id, similarity):\n",
        "    query = \"\"\"\n",
        "    MATCH (q:Question {id: $question_id})\n",
        "    MATCH (k:Keyword {id: $keyword_id})\n",
        "    MERGE (q)-[r:IS_SIMILAR]->(k)\n",
        "    SET r.similarity = $similarity\n",
        "    \"\"\"\n",
        "    tx.run(query, question_id=question_id, keyword_id=keyword_id, similarity=similarity)"
      ],
      "metadata": {
        "id": "G0RC7tHXtOI4"
      },
      "execution_count": null,
      "outputs": []
    },
    {
      "cell_type": "code",
      "source": [
        "#retrieve Question embeddings and Keyword embeddings\n",
        "def fetch_embeddings(tx):\n",
        "    query = \"\"\"\n",
        "    MATCH (q:Question)\n",
        "    MATCH (k:Keyword)\n",
        "    RETURN q.text AS questionText, q.id AS questionId, q.embedding AS questionEmbedding,\n",
        "           collect({id: k.id, text: k.text, embedding: k.embedding}) AS keywords\n",
        "    \"\"\"\n",
        "    return list(tx.run(query))\n",
        "\n",
        "def cosine_similarity(v1, v2):\n",
        "    return np.dot(v1, v2) / (np.linalg.norm(v1) * np.linalg.norm(v2))\n",
        "\n",
        "def find_most_similar_keyword(question_embedding, keywords):\n",
        "    max_similarity = -np.inf\n",
        "    most_similar_keyword = None\n",
        "    keyword_id = None\n",
        "    for keyword in keywords:\n",
        "        if keyword['embedding'] is None:\n",
        "            continue\n",
        "        similarity = cosine_similarity(np.array(question_embedding), np.array(keyword['embedding']))\n",
        "        if similarity > max_similarity:\n",
        "            max_similarity = similarity\n",
        "            most_similar_keyword = keyword['text']\n",
        "            keyword_id = keyword['id']\n",
        "    return most_similar_keyword, keyword_id, max_similarity\n",
        "\n",
        "def main():\n",
        "    with driver.session() as session:\n",
        "        questions_and_keywords = session.execute_read(fetch_embeddings)\n"
      ],
      "metadata": {
        "id": "r_G8Aia4qI8U"
      },
      "execution_count": null,
      "outputs": []
    },
    {
      "cell_type": "code",
      "source": [
        "with driver.session() as session:\n",
        "    questions_and_keywords = session.execute_read(fetch_embeddings)\n",
        "    for matching in questions_and_keywords:\n",
        "      question_text = matching['questionText']\n",
        "      question_id = matching['questionId']\n",
        "      question_embedding = matching['questionEmbedding']\n",
        "      keywords = matching['keywords']\n",
        "      if question_embedding and keywords:\n",
        "        most_similar_keyword, keyword_id, similarity = find_most_similar_keyword(question_embedding, keywords)\n",
        "        if most_similar_keyword:\n",
        "          session.execute_write(create_similarity_relationship,question_id,keyword_id, similarity)"
      ],
      "metadata": {
        "id": "FITt_1iOweHZ"
      },
      "execution_count": null,
      "outputs": []
    },
    {
      "cell_type": "markdown",
      "source": [
        "- Retriever"
      ],
      "metadata": {
        "id": "CxpgBgmy1q0k"
      }
    },
    {
      "cell_type": "code",
      "source": [
        "from langchain_community.vectorstores import Neo4jVector\n",
        "from langchain_core.runnables import ConfigurableField, RunnableParallel\n",
        "from langchain_core.output_parsers import StrOutputParser\n"
      ],
      "metadata": {
        "id": "Y2tjxyYOE2Mv"
      },
      "execution_count": 64,
      "outputs": []
    },
    {
      "cell_type": "code",
      "source": [
        "typical_rag = Neo4jVector.from_existing_index(\n",
        "    OpenAIEmbeddings(), index_name=\"source\"\n",
        ")"
      ],
      "metadata": {
        "id": "gwyEWC8Kljd-"
      },
      "execution_count": 9,
      "outputs": []
    },
    {
      "cell_type": "code",
      "source": [
        "#search the relevant keyword\n",
        "keyword_vectorstore = Neo4jVector.from_existing_graph(\n",
        "    OpenAIEmbeddings(),\n",
        "    index_name=\"keyword\",\n",
        "    node_label=\"Keyword\",\n",
        "    text_node_properties=[\"text\",\"id\"],\n",
        "    embedding_node_property=\"embedding\"\n",
        ")\n",
        "query=\"when is the end of fiscal year of apple?\"\n",
        "keyword_result = keyword_vectorstore.similarity_search(query, k=1)\n",
        "print(keyword_result[0])"
      ],
      "metadata": {
        "colab": {
          "base_uri": "https://localhost:8080/"
        },
        "id": "0Gz3ROdsFUPY",
        "outputId": "53a5d39b-99c9-4634-ce7c-3366297f1b5f"
      },
      "execution_count": 11,
      "outputs": [
        {
          "output_type": "stream",
          "name": "stdout",
          "text": [
            "page_content='\n",
            "text:  financial performance\n",
            "id: 12'\n"
          ]
        }
      ]
    },
    {
      "cell_type": "code",
      "source": [
        "#search the relevant question from retrieved keyword\n",
        "retrieved_keyword = str(keyword_result[0])\n",
        "# print(retrieved_keyword)\n",
        "\n",
        "start = retrieved_keyword.find('text:') + len('text:')\n",
        "end = retrieved_keyword.find('\\nid:', start)\n",
        "keyword_text = retrieved_keyword[start:end].strip()\n",
        "print(keyword_text)\n",
        "\n",
        "start = retrieved_keyword.find('id:') + len('id:')\n",
        "end = retrieved_keyword.find(\"'\", start)\n",
        "keyword_id = int(retrieved_keyword[start:end].strip())\n",
        "print(keyword_id)"
      ],
      "metadata": {
        "colab": {
          "base_uri": "https://localhost:8080/"
        },
        "id": "Sk-XJIWUFt7S",
        "outputId": "c2ab4999-930a-4679-c4b8-09dc33ac66f4"
      },
      "execution_count": 47,
      "outputs": [
        {
          "output_type": "stream",
          "name": "stdout",
          "text": [
            "financial performance\n",
            "12\n"
          ]
        }
      ]
    },
    {
      "cell_type": "code",
      "source": [
        "#retrieve relevant questions from retrieved keyword\n",
        "cypher_query = \"\"\"\n",
        "      MATCH (k:Keyword{id:$keyword_id_path})-[]-(q:Question)\n",
        "      RETURN k.id AS keywordId, q.id AS questionId, q.text AS questionText\n",
        "      \"\"\"\n",
        "\n",
        "with driver.session() as session:\n",
        "  cypher_result = session.run(cypher_query,keyword_id_path=int(keyword_id))\n",
        "  # print(cypher_result.data())\n",
        "  for relevant in cypher_result:\n",
        "    print(relevant)"
      ],
      "metadata": {
        "colab": {
          "base_uri": "https://localhost:8080/"
        },
        "id": "BcHQkIWCKTjK",
        "outputId": "b2ad695e-0cdf-4918-fe38-0269b0edd980"
      },
      "execution_count": 55,
      "outputs": [
        {
          "output_type": "stream",
          "name": "stdout",
          "text": [
            "<Record keywordId=12 questionId='5-4' questionText='How does the Company manage its business segments geographically?'>\n",
            "<Record keywordId=12 questionId='6-1' questionText=\"How does competition impact the Company's gross margins?\">\n",
            "<Record keywordId=12 questionId='9-0' questionText=\"How do seasonal holiday demands impact the Company's net sales in the first quarter compared to other quarters?\">\n",
            "<Record keywordId=12 questionId='9-1' questionText=\"How do new product and service introductions affect the Company's net sales, cost of sales, and operating expenses?\">\n",
            "<Record keywordId=12 questionId='9-3' questionText=\"How does anticipation of a product introduction affect the Company's net sales?\">\n",
            "<Record keywordId=12 questionId='9-7' questionText='How does the Company ensure that compensation is competitive and equitable for its employees?'>\n",
            "<Record keywordId=12 questionId='11-0' questionText=\"How do global and regional economic conditions impact the Company's operations and performance?\">\n",
            "<Record keywordId=12 questionId='14-6' questionText='What is crucial for the Company to compete successfully in its markets?'>\n",
            "<Record keywordId=12 questionId='16-1' questionText=\"How does the Company's minority market share in global markets impact its competitive advantage?\">\n",
            "<Record keywordId=12 questionId='19-4' questionText='What challenges does the Company face in terms of obtaining components in sufficient quantities on commercially reasonable terms, and how does this impact its future operating results?'>\n",
            "<Record keywordId=12 questionId='20-8' questionText=\"What challenges can arise with the Company's service offerings in terms of quality and performance?\">\n",
            "<Record keywordId=12 questionId='21-0' questionText='What potential consequences could the Company face due to failure to detect and fix issues in hardware, software, and services?'>\n",
            "<Record keywordId=12 questionId='21-1' questionText=\"How might quality problems impact the Company's reputation and market acceptance?\">\n",
            "<Record keywordId=12 questionId='22-1' questionText='How does the Company handle write-downs for obsolete inventories and excess components?'>\n",
            "<Record keywordId=12 questionId='23-0' questionText=\"What impact can the failure to obtain necessary licenses on commercially reasonable terms have on the Company's business?\">\n",
            "<Record keywordId=12 questionId='23-1' questionText=\"How does the Company's future performance depend on support from third-party software developers?\">\n",
            "<Record keywordId=12 questionId='24-3' questionText=\"How could changes in the commission rate impact the Company's business?\">\n",
            "<Record keywordId=12 questionId='24-4' questionText=\"What risks are associated with the Company's failure to obtain or create appealing digital content for its customers?\">\n",
            "<Record keywordId=12 questionId='27-1' questionText=\"How could information technology system failures impact the Company's business and reputation?\">\n",
            "<Record keywordId=12 questionId='28-1' questionText=\"How do malicious attacks and unauthorized access affect the Company's business, reputation, and financial condition?\">\n",
            "<Record keywordId=12 questionId='30-1' questionText=\"How could investment in new business strategies and acquisitions impact the Company's business, reputation, and financial condition?\">\n",
            "<Record keywordId=12 questionId='32-0' questionText=\"How might changes in business practices impact the Company's ability to offer products and services?\">\n",
            "<Record keywordId=12 questionId='36-0' questionText=\"What potential impact could antitrust investigations have on the Company's business operations and financial condition?\">\n",
            "<Record keywordId=12 questionId='36-1' questionText=\"How could adverse findings in investigations related to the App Store affect the Company's financial standing?\">\n",
            "<Record keywordId=12 questionId='38-1' questionText=\"How do the Company's profit margins vary across its products, services, geographic segments, and distribution channels?\">\n",
            "<Record keywordId=12 questionId='38-2' questionText=\"What are some of the risks that could impact the Company's gross margins?\">\n",
            "<Record keywordId=12 questionId='38-3' questionText='Why does the Company historically experience higher net sales in the first quarter compared to other quarters?'>\n",
            "<Record keywordId=12 questionId='38-4' questionText=\"How could new product and service introductions impact the Company's net sales, cost of sales, and operating expenses?\">\n",
            "<Record keywordId=12 questionId='38-6' questionText=\"How is the Company's financial performance affected by changes in the value of the U.S. dollar relative to local currencies?\">\n",
            "<Record keywordId=12 questionId='38-7' questionText='What is the primary exposure of the Company to movements in foreign exchange rates?'>\n",
            "<Record keywordId=12 questionId='39-0' questionText=\"How do foreign exchange rate fluctuations impact the U.S. dollar value of the Company's foreign currency-denominated sales and earnings?\">\n",
            "<Record keywordId=12 questionId='39-2' questionText=\"How does a strengthening of foreign currencies relative to the U.S. dollar affect the Company's foreign currency-denominated sales and earnings?\">\n",
            "<Record keywordId=12 questionId='39-4' questionText=\"How can changes in liquidity, credit deterioration, and other factors affect the Company's investments and financial condition?\">\n",
            "<Record keywordId=12 questionId='40-4' questionText='How is the Company affected by changes in tax rates and international tax legislation?'>\n",
            "<Record keywordId=12 questionId='41-2' questionText=\"What impact could an increase in effective tax rates have on the Company's business and financial condition?\">\n",
            "<Record keywordId=12 questionId='41-4' questionText='How does the Company believe the price of its stock should reflect future growth and profitability?'>\n",
            "<Record keywordId=12 questionId='41-5' questionText='What risks are associated with the Company failing to meet market expectations related to dividends and share repurchases?'>\n",
            "<Record keywordId=12 questionId='43-3' questionText=\"What potential impact could the resolution of legal matters above management's expectations have on the Company's financial condition and operating results?\">\n"
          ]
        }
      ]
    },
    {
      "cell_type": "code",
      "source": [
        "#retrieve from whole question nodes(keyword not specified)\n",
        "cypher_query = \"\"\"\n",
        "      MATCH (k:Keyword{id:12})-[]-(q:Question)\n",
        "      RETURN k.id AS keywordId, q.id AS questionId, q.text AS questionText,score\n",
        "      \"\"\"\n",
        "question_vectorstore = Neo4jVector.from_existing_graph(\n",
        "  OpenAIEmbeddings(),\n",
        "  index_name=\"hypothetical_questions\",\n",
        "  keyword_index_name=\"keyword\",\n",
        "  node_label=\"Question\",\n",
        "  text_node_properties=[\"text\",\"id\"],\n",
        "  embedding_node_property=\"embedding\"\n",
        ")\n",
        "query=\"when is the end of fiscal year of apple?\"\n",
        "\n",
        "question_result_whole= question_vectorstore.similarity_search(query,k=2)\n",
        "print(question_result_whole)"
      ],
      "metadata": {
        "colab": {
          "base_uri": "https://localhost:8080/"
        },
        "id": "0GD21PcCws_3",
        "outputId": "fa52a5b7-86d6-4e8c-bb34-f49322895936"
      },
      "execution_count": 66,
      "outputs": [
        {
          "output_type": "stream",
          "name": "stdout",
          "text": [
            "[Document(page_content='\\ntext: What is the fiscal year end date for Apple Inc.?\\nid: 0-0'), Document(page_content=\"\\ntext: What are the key sections included in Apple Inc.'s Form 10-K for the Fiscal Year Ended September 30, 2023?\\nid: 2-0\")]\n"
          ]
        }
      ]
    },
    {
      "cell_type": "code",
      "source": [
        "#retrieve question nodes from specified keyword that retrieved from pre-stage(keyword specified)\n",
        "cypher_query = \"\"\"\n",
        "      MATCH (k:Keyword{id:$keyword_id_path})-[]-(q:Question)\n",
        "      RETURN k.id AS keywordId, q.id AS questionId, q.text AS questionText,score\n",
        "      \"\"\"\n",
        "question_vectorstore = Neo4jVector.from_existing_index(\n",
        "  OpenAIEmbeddings(),\n",
        "  index_name=\"hypothetical_questions\",\n",
        "  retrieval_query=cypher_query\n",
        ")\n",
        "query=\"when is the end of fiscal year of apple?\"\n",
        "\n",
        "question_result_wkey= question_vectorstore.similarity_search(query,k=2,params={\"keyword_id_path\":keyword_id})\n",
        "print(question_result_wkey)  #no outputs.."
      ],
      "metadata": {
        "colab": {
          "base_uri": "https://localhost:8080/",
          "height": 339
        },
        "id": "3HMBzS7Z2yUn",
        "outputId": "4a838794-94fd-460e-fee4-d8aa45b1ad64"
      },
      "execution_count": 68,
      "outputs": [
        {
          "output_type": "error",
          "ename": "KeyError",
          "evalue": "'text'",
          "traceback": [
            "\u001b[0;31m---------------------------------------------------------------------------\u001b[0m",
            "\u001b[0;31mKeyError\u001b[0m                                  Traceback (most recent call last)",
            "\u001b[0;32m<ipython-input-68-c0086afe34c0>\u001b[0m in \u001b[0;36m<cell line: 13>\u001b[0;34m()\u001b[0m\n\u001b[1;32m     11\u001b[0m \u001b[0mquery\u001b[0m\u001b[0;34m=\u001b[0m\u001b[0;34m\"when is the end of fiscal year of apple?\"\u001b[0m\u001b[0;34m\u001b[0m\u001b[0;34m\u001b[0m\u001b[0m\n\u001b[1;32m     12\u001b[0m \u001b[0;34m\u001b[0m\u001b[0m\n\u001b[0;32m---> 13\u001b[0;31m \u001b[0mquestion_result_wkey\u001b[0m\u001b[0;34m=\u001b[0m \u001b[0mquestion_vectorstore\u001b[0m\u001b[0;34m.\u001b[0m\u001b[0msimilarity_search\u001b[0m\u001b[0;34m(\u001b[0m\u001b[0mquery\u001b[0m\u001b[0;34m,\u001b[0m\u001b[0mk\u001b[0m\u001b[0;34m=\u001b[0m\u001b[0;36m2\u001b[0m\u001b[0;34m,\u001b[0m\u001b[0mparams\u001b[0m\u001b[0;34m=\u001b[0m\u001b[0;34m{\u001b[0m\u001b[0;34m\"keyword_id_path\"\u001b[0m\u001b[0;34m:\u001b[0m\u001b[0mkeyword_id\u001b[0m\u001b[0;34m}\u001b[0m\u001b[0;34m)\u001b[0m\u001b[0;34m\u001b[0m\u001b[0;34m\u001b[0m\u001b[0m\n\u001b[0m\u001b[1;32m     14\u001b[0m \u001b[0mprint\u001b[0m\u001b[0;34m(\u001b[0m\u001b[0mquestion_result_wkey\u001b[0m\u001b[0;34m)\u001b[0m\u001b[0;34m\u001b[0m\u001b[0;34m\u001b[0m\u001b[0m\n",
            "\u001b[0;32m/usr/local/lib/python3.10/dist-packages/langchain_community/vectorstores/neo4j_vector.py\u001b[0m in \u001b[0;36msimilarity_search\u001b[0;34m(self, query, k, params, filter, **kwargs)\u001b[0m\n\u001b[1;32m    940\u001b[0m         \"\"\"\n\u001b[1;32m    941\u001b[0m         \u001b[0membedding\u001b[0m \u001b[0;34m=\u001b[0m \u001b[0mself\u001b[0m\u001b[0;34m.\u001b[0m\u001b[0membedding\u001b[0m\u001b[0;34m.\u001b[0m\u001b[0membed_query\u001b[0m\u001b[0;34m(\u001b[0m\u001b[0mtext\u001b[0m\u001b[0;34m=\u001b[0m\u001b[0mquery\u001b[0m\u001b[0;34m)\u001b[0m\u001b[0;34m\u001b[0m\u001b[0;34m\u001b[0m\u001b[0m\n\u001b[0;32m--> 942\u001b[0;31m         return self.similarity_search_by_vector(\n\u001b[0m\u001b[1;32m    943\u001b[0m             \u001b[0membedding\u001b[0m\u001b[0;34m=\u001b[0m\u001b[0membedding\u001b[0m\u001b[0;34m,\u001b[0m\u001b[0;34m\u001b[0m\u001b[0;34m\u001b[0m\u001b[0m\n\u001b[1;32m    944\u001b[0m             \u001b[0mk\u001b[0m\u001b[0;34m=\u001b[0m\u001b[0mk\u001b[0m\u001b[0;34m,\u001b[0m\u001b[0;34m\u001b[0m\u001b[0;34m\u001b[0m\u001b[0m\n",
            "\u001b[0;32m/usr/local/lib/python3.10/dist-packages/langchain_community/vectorstores/neo4j_vector.py\u001b[0m in \u001b[0;36msimilarity_search_by_vector\u001b[0;34m(self, embedding, k, filter, params, **kwargs)\u001b[0m\n\u001b[1;32m   1162\u001b[0m             \u001b[0mList\u001b[0m \u001b[0mof\u001b[0m \u001b[0mDocuments\u001b[0m \u001b[0mmost\u001b[0m \u001b[0msimilar\u001b[0m \u001b[0mto\u001b[0m \u001b[0mthe\u001b[0m \u001b[0mquery\u001b[0m \u001b[0mvector\u001b[0m\u001b[0;34m.\u001b[0m\u001b[0;34m\u001b[0m\u001b[0;34m\u001b[0m\u001b[0m\n\u001b[1;32m   1163\u001b[0m         \"\"\"\n\u001b[0;32m-> 1164\u001b[0;31m         docs_and_scores = self.similarity_search_with_score_by_vector(\n\u001b[0m\u001b[1;32m   1165\u001b[0m             \u001b[0membedding\u001b[0m\u001b[0;34m=\u001b[0m\u001b[0membedding\u001b[0m\u001b[0;34m,\u001b[0m \u001b[0mk\u001b[0m\u001b[0;34m=\u001b[0m\u001b[0mk\u001b[0m\u001b[0;34m,\u001b[0m \u001b[0mfilter\u001b[0m\u001b[0;34m=\u001b[0m\u001b[0mfilter\u001b[0m\u001b[0;34m,\u001b[0m \u001b[0mparams\u001b[0m\u001b[0;34m=\u001b[0m\u001b[0mparams\u001b[0m\u001b[0;34m,\u001b[0m \u001b[0;34m**\u001b[0m\u001b[0mkwargs\u001b[0m\u001b[0;34m\u001b[0m\u001b[0;34m\u001b[0m\u001b[0m\n\u001b[1;32m   1166\u001b[0m         )\n",
            "\u001b[0;32m/usr/local/lib/python3.10/dist-packages/langchain_community/vectorstores/neo4j_vector.py\u001b[0m in \u001b[0;36msimilarity_search_with_score_by_vector\u001b[0;34m(self, embedding, k, filter, params, **kwargs)\u001b[0m\n\u001b[1;32m   1097\u001b[0m         \u001b[0mresults\u001b[0m \u001b[0;34m=\u001b[0m \u001b[0mself\u001b[0m\u001b[0;34m.\u001b[0m\u001b[0mquery\u001b[0m\u001b[0;34m(\u001b[0m\u001b[0mread_query\u001b[0m\u001b[0;34m,\u001b[0m \u001b[0mparams\u001b[0m\u001b[0;34m=\u001b[0m\u001b[0mparameters\u001b[0m\u001b[0;34m)\u001b[0m\u001b[0;34m\u001b[0m\u001b[0;34m\u001b[0m\u001b[0m\n\u001b[1;32m   1098\u001b[0m \u001b[0;34m\u001b[0m\u001b[0m\n\u001b[0;32m-> 1099\u001b[0;31m         \u001b[0;32mif\u001b[0m \u001b[0many\u001b[0m\u001b[0;34m(\u001b[0m\u001b[0mresult\u001b[0m\u001b[0;34m[\u001b[0m\u001b[0;34m\"text\"\u001b[0m\u001b[0;34m]\u001b[0m \u001b[0;32mis\u001b[0m \u001b[0;32mNone\u001b[0m \u001b[0;32mfor\u001b[0m \u001b[0mresult\u001b[0m \u001b[0;32min\u001b[0m \u001b[0mresults\u001b[0m\u001b[0;34m)\u001b[0m\u001b[0;34m:\u001b[0m\u001b[0;34m\u001b[0m\u001b[0;34m\u001b[0m\u001b[0m\n\u001b[0m\u001b[1;32m   1100\u001b[0m             \u001b[0;32mif\u001b[0m \u001b[0;32mnot\u001b[0m \u001b[0mself\u001b[0m\u001b[0;34m.\u001b[0m\u001b[0mretrieval_query\u001b[0m\u001b[0;34m:\u001b[0m\u001b[0;34m\u001b[0m\u001b[0;34m\u001b[0m\u001b[0m\n\u001b[1;32m   1101\u001b[0m                 raise ValueError(\n",
            "\u001b[0;32m/usr/local/lib/python3.10/dist-packages/langchain_community/vectorstores/neo4j_vector.py\u001b[0m in \u001b[0;36m<genexpr>\u001b[0;34m(.0)\u001b[0m\n\u001b[1;32m   1097\u001b[0m         \u001b[0mresults\u001b[0m \u001b[0;34m=\u001b[0m \u001b[0mself\u001b[0m\u001b[0;34m.\u001b[0m\u001b[0mquery\u001b[0m\u001b[0;34m(\u001b[0m\u001b[0mread_query\u001b[0m\u001b[0;34m,\u001b[0m \u001b[0mparams\u001b[0m\u001b[0;34m=\u001b[0m\u001b[0mparameters\u001b[0m\u001b[0;34m)\u001b[0m\u001b[0;34m\u001b[0m\u001b[0;34m\u001b[0m\u001b[0m\n\u001b[1;32m   1098\u001b[0m \u001b[0;34m\u001b[0m\u001b[0m\n\u001b[0;32m-> 1099\u001b[0;31m         \u001b[0;32mif\u001b[0m \u001b[0many\u001b[0m\u001b[0;34m(\u001b[0m\u001b[0mresult\u001b[0m\u001b[0;34m[\u001b[0m\u001b[0;34m\"text\"\u001b[0m\u001b[0;34m]\u001b[0m \u001b[0;32mis\u001b[0m \u001b[0;32mNone\u001b[0m \u001b[0;32mfor\u001b[0m \u001b[0mresult\u001b[0m \u001b[0;32min\u001b[0m \u001b[0mresults\u001b[0m\u001b[0;34m)\u001b[0m\u001b[0;34m:\u001b[0m\u001b[0;34m\u001b[0m\u001b[0;34m\u001b[0m\u001b[0m\n\u001b[0m\u001b[1;32m   1100\u001b[0m             \u001b[0;32mif\u001b[0m \u001b[0;32mnot\u001b[0m \u001b[0mself\u001b[0m\u001b[0;34m.\u001b[0m\u001b[0mretrieval_query\u001b[0m\u001b[0;34m:\u001b[0m\u001b[0;34m\u001b[0m\u001b[0;34m\u001b[0m\u001b[0m\n\u001b[1;32m   1101\u001b[0m                 raise ValueError(\n",
            "\u001b[0;31mKeyError\u001b[0m: 'text'"
          ]
        }
      ]
    },
    {
      "cell_type": "code",
      "source": [
        "retriever = typical_rag.as_retriever().configurable_alternatives(\n",
        "    ConfigurableField(id=\"strategy\"),\n",
        "    default_key=\"typical_rag\",\n",
        "    keyword_strategy=keyword_vectorstore.as_retriever(),\n",
        "    hypothetical_questions=question_vectorstore.as_retriever(),\n",
        ")"
      ],
      "metadata": {
        "id": "TTBf-qNZRD7q"
      },
      "execution_count": 63,
      "outputs": []
    },
    {
      "cell_type": "code",
      "source": [
        "from operator import itemgetter\n",
        "\n",
        "template = \"\"\"Answer the question based only on the following context:\n",
        "{context}\n",
        "\n",
        "Question: {question}\n",
        "\"\"\"\n",
        "prompt = ChatPromptTemplate.from_template(template)\n",
        "\n",
        "model = ChatOpenAI()\n",
        "\n",
        "chain = (\n",
        "    RunnableParallel(\n",
        "        {\n",
        "            \"context\": itemgetter(\"question\") | retriever ,\n",
        "            \"question\": itemgetter(\"question\"),\n",
        "        }\n",
        "    )\n",
        "    | prompt\n",
        "    | model\n",
        "    | StrOutputParser()\n",
        ")"
      ],
      "metadata": {
        "id": "tNbwI6zI0l3o"
      },
      "execution_count": 65,
      "outputs": []
    },
    {
      "cell_type": "code",
      "source": [
        "if __name__ == \"__main__\":\n",
        "    original_query = \"when is the end of fiscal year of apple?\"\n",
        "    print(\n",
        "        chain.invoke(\n",
        "            {\"question\": original_query},\n",
        "            {\"configurable\": {\"strategy\": \"keyword_strategy\"}},\n",
        "        )\n",
        "    )"
      ],
      "metadata": {
        "colab": {
          "base_uri": "https://localhost:8080/"
        },
        "id": "EWpwTxzB50Es",
        "outputId": "9d552db5-3889-4d3c-83ba-fde9be41f83f"
      },
      "execution_count": 72,
      "outputs": [
        {
          "output_type": "stream",
          "name": "stdout",
          "text": [
            "The end of fiscal year of Apple is not provided in the given context.\n"
          ]
        }
      ]
    },
    {
      "cell_type": "code",
      "source": [
        "if __name__ == \"__main__\":\n",
        "    original_query = \"when is the end of fiscal year of apple?\"\n",
        "    print(\n",
        "        chain.invoke(\n",
        "            {\"question\": original_query},\n",
        "            {\"configurable\": {\"strategy\": \"hypothetical_questions\"}},\n",
        "        )\n",
        "    )"
      ],
      "metadata": {
        "colab": {
          "base_uri": "https://localhost:8080/"
        },
        "id": "LjkICAjZ1Lvb",
        "outputId": "279afe95-4fa4-453c-a1a0-44351ae533da"
      },
      "execution_count": 71,
      "outputs": [
        {
          "output_type": "stream",
          "name": "stdout",
          "text": [
            "The fiscal year end date for Apple Inc. is September 30th.\n"
          ]
        }
      ]
    },
    {
      "cell_type": "code",
      "source": [],
      "metadata": {
        "id": "VKR1jBFP5qhi"
      },
      "execution_count": null,
      "outputs": []
    }
  ]
}